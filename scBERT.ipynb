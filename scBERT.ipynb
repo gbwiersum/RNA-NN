{
 "cells": [
  {
   "cell_type": "code",
   "execution_count": 1,
   "id": "5f1c7207",
   "metadata": {},
   "outputs": [
    {
     "name": "stderr",
     "output_type": "stream",
     "text": [
      "C:\\Users\\gbwie\\anaconda3\\lib\\site-packages\\anndata\\_core\\anndata.py:1830: UserWarning: Observation names are not unique. To make them unique, call `.obs_names_make_unique`.\n",
      "  utils.warn_names_duplicates(\"obs\")\n",
      "C:\\Users\\gbwie\\anaconda3\\lib\\site-packages\\anndata\\_core\\anndata.py:1830: UserWarning: Observation names are not unique. To make them unique, call `.obs_names_make_unique`.\n",
      "  utils.warn_names_duplicates(\"obs\")\n"
     ]
    }
   ],
   "source": [
    "import scanpy as sc, numpy as np, pandas as pd, anndata as ad\n",
    "from scipy import sparse\n",
    "\n",
    "panglao = sc.read_h5ad('./scBERT/panglao_human.h5ad')\n",
    "data = sc.read_h5ad('./scBERT/panglao_human.h5ad')\n",
    "print(\"data read in...creating matrix\")\n",
    "counts = sparse.lil_matrix((data.X.shape[0],panglao.X.shape[1]),dtype=np.float32)\n",
    "ref = panglao.var_names.tolist()\n",
    "obj = data.var_names.tolist()"
   ]
  },
  {
   "cell_type": "code",
   "execution_count": null,
   "id": "223b8395",
   "metadata": {},
   "outputs": [
    {
     "name": "stdout",
     "output_type": "stream",
     "text": [
      "0.0%\n",
      "0.5915059742103396%\n",
      "1.1830119484206791%\n",
      "1.7745179226310186%\n",
      "2.3660238968413583%\n",
      "2.9575298710516975%\n",
      "3.549035845262037%\n",
      "4.140541819472377%\n",
      "4.7320477936827166%\n",
      "5.323553767893055%\n",
      "5.915059742103395%\n",
      "6.506565716313735%\n",
      "7.098071690524074%\n",
      "7.689577664734413%\n",
      "8.281083638944754%\n",
      "8.872589613155094%\n",
      "9.464095587365433%\n",
      "10.055601561575772%\n",
      "10.64710753578611%\n",
      "11.238613509996451%\n",
      "11.83011948420679%\n",
      "12.42162545841713%\n",
      "13.01313143262747%\n",
      "13.604637406837808%\n",
      "14.196143381048149%\n",
      "14.78764935525849%\n",
      "15.379155329468826%\n",
      "15.970661303679169%\n",
      "16.562167277889507%\n",
      "17.153673252099846%\n",
      "17.74517922631019%\n",
      "18.336685200520524%\n",
      "18.928191174730866%\n",
      "19.519697148941205%\n"
     ]
    }
   ],
   "source": [
    "for i in range(len(ref)):\n",
    "    if ref[i] in obj:\n",
    "        loc = obj.index(ref[i])\n",
    "        counts[:,i] = data.X[:,loc]\n",
    "        if i%100==0:\n",
    "            print(str(i/len(ref)*100)+\"%\")\n",
    "\n",
    "counts = counts.tocsr()\n",
    "new = ad.AnnData(X=counts)\n",
    "new.var_names = ref\n",
    "new.obs_names = data.obs_names\n",
    "new.obs = data.obs\n",
    "new.uns = panglao.uns\n",
    "\n",
    "sc.pp.filter_cells(new, min_genes=200)\n",
    "sc.pp.normalize_total(new, target_sum=1e4)\n",
    "sc.pp.log1p(new, base=2)\n",
    "new.write('./preprocessed_data.h5ad')"
   ]
  },
  {
   "cell_type": "code",
   "execution_count": null,
   "id": "f85724b0",
   "metadata": {},
   "outputs": [],
   "source": []
  }
 ],
 "metadata": {
  "kernelspec": {
   "display_name": "Python 3 (ipykernel)",
   "language": "python",
   "name": "python3"
  },
  "language_info": {
   "codemirror_mode": {
    "name": "ipython",
    "version": 3
   },
   "file_extension": ".py",
   "mimetype": "text/x-python",
   "name": "python",
   "nbconvert_exporter": "python",
   "pygments_lexer": "ipython3",
   "version": "3.9.13"
  }
 },
 "nbformat": 4,
 "nbformat_minor": 5
}
